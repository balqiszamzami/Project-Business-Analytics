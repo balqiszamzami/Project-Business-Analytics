{
 "cells": [
  {
   "cell_type": "markdown",
   "metadata": {},
   "source": [
    "# <center> Pacmann Final Project Business Analytics : Analyzing Paid Search Campaign Data for Mall Businesses\n",
    "\n",
    "## <center> Balqis Dwian Fitri Zamzami - ADS Batch 13 [TTS Batch 3]"
   ]
  },
  {
   "cell_type": "markdown",
   "metadata": {},
   "source": [
    "### Import Libraryˎˊ˗ ✰"
   ]
  },
  {
   "cell_type": "code",
   "execution_count": 1,
   "metadata": {},
   "outputs": [],
   "source": [
    "import pandas as pd"
   ]
  },
  {
   "cell_type": "markdown",
   "metadata": {},
   "source": [
    "### Data Preprocessingˎˊ˗ ✰"
   ]
  },
  {
   "cell_type": "markdown",
   "metadata": {},
   "source": [
    "**View Data**"
   ]
  },
  {
   "cell_type": "code",
   "execution_count": 2,
   "metadata": {},
   "outputs": [
    {
     "data": {
      "text/html": [
       "<div>\n",
       "<style scoped>\n",
       "    .dataframe tbody tr th:only-of-type {\n",
       "        vertical-align: middle;\n",
       "    }\n",
       "\n",
       "    .dataframe tbody tr th {\n",
       "        vertical-align: top;\n",
       "    }\n",
       "\n",
       "    .dataframe thead th {\n",
       "        text-align: right;\n",
       "    }\n",
       "</style>\n",
       "<table border=\"1\" class=\"dataframe\">\n",
       "  <thead>\n",
       "    <tr style=\"text-align: right;\">\n",
       "      <th></th>\n",
       "      <th>Ad Group</th>\n",
       "      <th>Month</th>\n",
       "      <th>Impressions</th>\n",
       "      <th>Clicks</th>\n",
       "      <th>CTR</th>\n",
       "      <th>Conversions</th>\n",
       "      <th>Conv Rate</th>\n",
       "      <th>Cost</th>\n",
       "      <th>CPC</th>\n",
       "      <th>Revenue</th>\n",
       "      <th>Sale Amount</th>\n",
       "      <th>P&amp;L</th>\n",
       "    </tr>\n",
       "  </thead>\n",
       "  <tbody>\n",
       "    <tr>\n",
       "      <th>0</th>\n",
       "      <td>Shop - 1:1 - Desk - [shop coupon code]</td>\n",
       "      <td>July</td>\n",
       "      <td>16038</td>\n",
       "      <td>6504</td>\n",
       "      <td>0.41</td>\n",
       "      <td>1166</td>\n",
       "      <td>0.10</td>\n",
       "      <td>6669</td>\n",
       "      <td>1.03</td>\n",
       "      <td>6402</td>\n",
       "      <td>136770.05</td>\n",
       "      <td>-267.086</td>\n",
       "    </tr>\n",
       "    <tr>\n",
       "      <th>1</th>\n",
       "      <td>Shop - 1:1 - Desk - [shop coupon]</td>\n",
       "      <td>July</td>\n",
       "      <td>36462</td>\n",
       "      <td>14367</td>\n",
       "      <td>0.39</td>\n",
       "      <td>2188</td>\n",
       "      <td>0.09</td>\n",
       "      <td>13746</td>\n",
       "      <td>0.96</td>\n",
       "      <td>13262</td>\n",
       "      <td>283215.21</td>\n",
       "      <td>-483.951</td>\n",
       "    </tr>\n",
       "    <tr>\n",
       "      <th>2</th>\n",
       "      <td>Shop - 1:1 - Desk - [shop discount code]</td>\n",
       "      <td>July</td>\n",
       "      <td>3635</td>\n",
       "      <td>1458</td>\n",
       "      <td>0.40</td>\n",
       "      <td>248</td>\n",
       "      <td>0.09</td>\n",
       "      <td>1606</td>\n",
       "      <td>1.10</td>\n",
       "      <td>1723</td>\n",
       "      <td>39165.46</td>\n",
       "      <td>117.136</td>\n",
       "    </tr>\n",
       "    <tr>\n",
       "      <th>3</th>\n",
       "      <td>Shop - 1:1 - Desk - [shop promo code]</td>\n",
       "      <td>July</td>\n",
       "      <td>26185</td>\n",
       "      <td>10418</td>\n",
       "      <td>0.40</td>\n",
       "      <td>2294</td>\n",
       "      <td>0.12</td>\n",
       "      <td>13278</td>\n",
       "      <td>1.27</td>\n",
       "      <td>13042</td>\n",
       "      <td>284823.48</td>\n",
       "      <td>-235.921</td>\n",
       "    </tr>\n",
       "    <tr>\n",
       "      <th>4</th>\n",
       "      <td>Shop - 1:1 - Desk - [shop promo]</td>\n",
       "      <td>July</td>\n",
       "      <td>808</td>\n",
       "      <td>282</td>\n",
       "      <td>0.35</td>\n",
       "      <td>61</td>\n",
       "      <td>0.15</td>\n",
       "      <td>391</td>\n",
       "      <td>1.39</td>\n",
       "      <td>337</td>\n",
       "      <td>7717.77</td>\n",
       "      <td>-53.604</td>\n",
       "    </tr>\n",
       "  </tbody>\n",
       "</table>\n",
       "</div>"
      ],
      "text/plain": [
       "                                   Ad Group Month  Impressions  Clicks   CTR  \\\n",
       "0    Shop - 1:1 - Desk - [shop coupon code]  July        16038    6504  0.41   \n",
       "1         Shop - 1:1 - Desk - [shop coupon]  July        36462   14367  0.39   \n",
       "2  Shop - 1:1 - Desk - [shop discount code]  July         3635    1458  0.40   \n",
       "3     Shop - 1:1 - Desk - [shop promo code]  July        26185   10418  0.40   \n",
       "4          Shop - 1:1 - Desk - [shop promo]  July          808     282  0.35   \n",
       "\n",
       "   Conversions  Conv Rate   Cost   CPC  Revenue  Sale Amount      P&L  \n",
       "0         1166       0.10   6669  1.03     6402    136770.05 -267.086  \n",
       "1         2188       0.09  13746  0.96    13262    283215.21 -483.951  \n",
       "2          248       0.09   1606  1.10     1723     39165.46  117.136  \n",
       "3         2294       0.12  13278  1.27    13042    284823.48 -235.921  \n",
       "4           61       0.15    391  1.39      337      7717.77  -53.604  "
      ]
     },
     "execution_count": 2,
     "metadata": {},
     "output_type": "execute_result"
    }
   ],
   "source": [
    "df = pd.read_csv(\"final_shop_6modata.csv\")\n",
    "df.head()"
   ]
  },
  {
   "cell_type": "markdown",
   "metadata": {},
   "source": [
    "**Checking Missing Value**"
   ]
  },
  {
   "cell_type": "code",
   "execution_count": 3,
   "metadata": {},
   "outputs": [
    {
     "data": {
      "text/plain": [
       "Ad Group       0\n",
       "Month          0\n",
       "Impressions    0\n",
       "Clicks         0\n",
       "CTR            0\n",
       "Conversions    0\n",
       "Conv Rate      0\n",
       "Cost           0\n",
       "CPC            0\n",
       "Revenue        0\n",
       "Sale Amount    0\n",
       "P&L            0\n",
       "dtype: int64"
      ]
     },
     "execution_count": 3,
     "metadata": {},
     "output_type": "execute_result"
    }
   ],
   "source": [
    "df.isna().sum()"
   ]
  },
  {
   "cell_type": "markdown",
   "metadata": {},
   "source": [
    "**Checking Duplicate Data**"
   ]
  },
  {
   "cell_type": "code",
   "execution_count": 4,
   "metadata": {},
   "outputs": [
    {
     "data": {
      "text/plain": [
       "0"
      ]
     },
     "execution_count": 4,
     "metadata": {},
     "output_type": "execute_result"
    }
   ],
   "source": [
    "df.duplicated().sum()"
   ]
  },
  {
   "cell_type": "markdown",
   "metadata": {},
   "source": [
    "**Change Data Type**\n"
   ]
  },
  {
   "cell_type": "code",
   "execution_count": 5,
   "metadata": {},
   "outputs": [
    {
     "name": "stdout",
     "output_type": "stream",
     "text": [
      "<class 'pandas.core.frame.DataFrame'>\n",
      "RangeIndex: 190 entries, 0 to 189\n",
      "Data columns (total 12 columns):\n",
      " #   Column       Non-Null Count  Dtype  \n",
      "---  ------       --------------  -----  \n",
      " 0   Ad Group     190 non-null    object \n",
      " 1   Month        190 non-null    object \n",
      " 2   Impressions  190 non-null    int64  \n",
      " 3   Clicks       190 non-null    int64  \n",
      " 4   CTR          190 non-null    float64\n",
      " 5   Conversions  190 non-null    int64  \n",
      " 6   Conv Rate    190 non-null    float64\n",
      " 7   Cost         190 non-null    int64  \n",
      " 8   CPC          190 non-null    float64\n",
      " 9   Revenue      190 non-null    int64  \n",
      " 10  Sale Amount  190 non-null    float64\n",
      " 11  P&L          190 non-null    float64\n",
      "dtypes: float64(5), int64(5), object(2)\n",
      "memory usage: 17.9+ KB\n"
     ]
    }
   ],
   "source": [
    "# check data type\n",
    "df.info()"
   ]
  },
  {
   "cell_type": "markdown",
   "metadata": {},
   "source": [
    "**Convert Ad Group to String Data Type**"
   ]
  },
  {
   "cell_type": "code",
   "execution_count": 6,
   "metadata": {},
   "outputs": [
    {
     "data": {
      "text/plain": [
       "Ad Group        string\n",
       "Month           object\n",
       "Impressions      int64\n",
       "Clicks           int64\n",
       "CTR            float64\n",
       "Conversions      int64\n",
       "Conv Rate      float64\n",
       "Cost             int64\n",
       "CPC            float64\n",
       "Revenue          int64\n",
       "Sale Amount    float64\n",
       "P&L            float64\n",
       "dtype: object"
      ]
     },
     "execution_count": 6,
     "metadata": {},
     "output_type": "execute_result"
    }
   ],
   "source": [
    "df['Ad Group'] = df['Ad Group'].astype('string')\n",
    "\n",
    "df.dtypes"
   ]
  },
  {
   "cell_type": "markdown",
   "metadata": {},
   "source": [
    "### Data Preparationˎˊ˗ ✰\n",
    "**Combining several Ad Groups**\n",
    "\n",
    "Several Ad Groups were merged to simplify and summarize the analysis.\n",
    "\n",
    "##### a. Checking the contents of the Ad Group column"
   ]
  },
  {
   "cell_type": "code",
   "execution_count": 7,
   "metadata": {},
   "outputs": [
    {
     "data": {
      "text/plain": [
       "Shop - 1:1 - Desk - [shop coupon code]             5\n",
       "Shop - 1:1 - Mob - [shop promo code]               5\n",
       "Shop - Exact - Mob - Competitor                    5\n",
       "Shop - 1:1 - Desk - [shop discount code]           5\n",
       "Shop - 1:1 - Desk - [shop promo code]              5\n",
       "Shop - 1:1 - Desk - [shop promo]                   5\n",
       "Shop - 1:1 - Mob - [shop coupon code]              5\n",
       "Shop - 1:1 - Mob - [shop coupon]                   5\n",
       "Shop - 1:1 - Mob - [shop discount code]            5\n",
       "Shop - 1:1 - Mob - [shop promo]                    5\n",
       "Shop - Exact - Mob - Free Shipping                 5\n",
       "Shop - Exact - Desk - Competitor                   5\n",
       "Shop - Exact - Desk - Coupon Code                  5\n",
       "Shop - Exact - Desk - Discount Code                5\n",
       "Shop - Exact - Desk - Free Shipping                5\n",
       "Shop - Exact - Desk - Offer                        5\n",
       "Shop - Exact - Desk - Promo Code                   5\n",
       "Shop - Exact - Desk - Sale                         5\n",
       "Shop - Phrase - Desk - Promo Code                  5\n",
       "Shop - Exact - Mob - Coupon Code                   5\n",
       "Shop - 1:1 - Desk - [shop coupon]                  5\n",
       "Shop - Phrase - Desk - Sale                        5\n",
       "Shop - Exact - Mob - Offer                         5\n",
       "Shop - Exact - Mob - Promo Code                    5\n",
       "Shop - Exact - Mob - Sale                          5\n",
       "Shop - Phrase - Desk - Coupon Code                 5\n",
       "Shop - Phrase - Desk - Discount Code               5\n",
       "Shop - Phrase - Desk - Free Shipping               5\n",
       "Shop - Phrase - Mob - Sale                         5\n",
       "Shop - Phrase - Desk - Offer                       5\n",
       "Shop - Exact - Mob - Discount Code                 5\n",
       "Shop - Phrase - Mob - Competitor                   5\n",
       "Shop - Phrase - Mob - Coupon Code                  5\n",
       "Shop - Phrase - Mob - Discount Code                5\n",
       "Shop - Phrase - Mob - Free Shipping                5\n",
       "Shop - Phrase - Mob - Offer                        5\n",
       "Shop - Phrase - Mob - Promo Code                   5\n",
       "Shop - Phrase - Desk - Competitor                  3\n",
       "Shop - Exact - Desk - Black Friday/Cyber Monday    1\n",
       "Shop - Exact - Mob - Black Friday/Cyber Monday     1\n",
       "Name: Ad Group, dtype: Int64"
      ]
     },
     "execution_count": 7,
     "metadata": {},
     "output_type": "execute_result"
    }
   ],
   "source": [
    "df['Ad Group'].value_counts()"
   ]
  },
  {
   "cell_type": "markdown",
   "metadata": {},
   "source": [
    "##### b. Create a new column (Type) to unify Ad Groups\n",
    "Multiple Ad Groups are combined into 1 type based on the similarity of their name elements."
   ]
  },
  {
   "cell_type": "code",
   "execution_count": 8,
   "metadata": {},
   "outputs": [
    {
     "data": {
      "text/html": [
       "<div>\n",
       "<style scoped>\n",
       "    .dataframe tbody tr th:only-of-type {\n",
       "        vertical-align: middle;\n",
       "    }\n",
       "\n",
       "    .dataframe tbody tr th {\n",
       "        vertical-align: top;\n",
       "    }\n",
       "\n",
       "    .dataframe thead th {\n",
       "        text-align: right;\n",
       "    }\n",
       "</style>\n",
       "<table border=\"1\" class=\"dataframe\">\n",
       "  <thead>\n",
       "    <tr style=\"text-align: right;\">\n",
       "      <th></th>\n",
       "      <th>Ad Group</th>\n",
       "      <th>Type</th>\n",
       "    </tr>\n",
       "  </thead>\n",
       "  <tbody>\n",
       "    <tr>\n",
       "      <th>0</th>\n",
       "      <td>Shop - 1:1 - Desk - [shop coupon code]</td>\n",
       "      <td>Coupon</td>\n",
       "    </tr>\n",
       "    <tr>\n",
       "      <th>1</th>\n",
       "      <td>Shop - 1:1 - Desk - [shop coupon]</td>\n",
       "      <td>Coupon</td>\n",
       "    </tr>\n",
       "    <tr>\n",
       "      <th>2</th>\n",
       "      <td>Shop - 1:1 - Desk - [shop discount code]</td>\n",
       "      <td>Discount</td>\n",
       "    </tr>\n",
       "    <tr>\n",
       "      <th>3</th>\n",
       "      <td>Shop - 1:1 - Desk - [shop promo code]</td>\n",
       "      <td>Promo</td>\n",
       "    </tr>\n",
       "    <tr>\n",
       "      <th>4</th>\n",
       "      <td>Shop - 1:1 - Desk - [shop promo]</td>\n",
       "      <td>Promo</td>\n",
       "    </tr>\n",
       "  </tbody>\n",
       "</table>\n",
       "</div>"
      ],
      "text/plain": [
       "                                   Ad Group      Type\n",
       "0    Shop - 1:1 - Desk - [shop coupon code]    Coupon\n",
       "1         Shop - 1:1 - Desk - [shop coupon]    Coupon\n",
       "2  Shop - 1:1 - Desk - [shop discount code]  Discount\n",
       "3     Shop - 1:1 - Desk - [shop promo code]     Promo\n",
       "4          Shop - 1:1 - Desk - [shop promo]     Promo"
      ]
     },
     "execution_count": 8,
     "metadata": {},
     "output_type": "execute_result"
    }
   ],
   "source": [
    "df['Type'] = df['Ad Group']\n",
    "\n",
    "df['Type'][df['Type'].str.contains('Free Shipping')]='Free Shipping'\n",
    "df['Type'][df['Type'].str.contains('coupon')]='Coupon'\n",
    "df['Type'][df['Type'].str.contains('Coupon')]='Coupon'\n",
    "df['Type'][df['Type'].str.contains('promo')]='Promo'\n",
    "df['Type'][df['Type'].str.contains('Promo')]='Promo'\n",
    "df['Type'][df['Type'].str.contains('discount')]='Discount'\n",
    "df['Type'][df['Type'].str.contains('Discount')]='Discount'\n",
    "df['Type'][df['Type'].str.contains('Competitor')]='Competitor'\n",
    "df['Type'][df['Type'].str.contains('Offer')]='Offer'\n",
    "df['Type'][df['Type'].str.contains('Sale')]='Sale'\n",
    "df['Type'][df['Type'].str.contains('Black Friday')]='Black Friday'\n",
    "\n",
    "df[['Ad Group','Type']].head()"
   ]
  },
  {
   "cell_type": "code",
   "execution_count": 9,
   "metadata": {},
   "outputs": [
    {
     "data": {
      "text/plain": [
       "Coupon           40\n",
       "Promo            40\n",
       "Discount         30\n",
       "Free Shipping    20\n",
       "Offer            20\n",
       "Sale             20\n",
       "Competitor       18\n",
       "Black Friday      2\n",
       "Name: Type, dtype: Int64"
      ]
     },
     "execution_count": 9,
     "metadata": {},
     "output_type": "execute_result"
    }
   ],
   "source": [
    "df['Type'].value_counts()"
   ]
  },
  {
   "cell_type": "markdown",
   "metadata": {},
   "source": [
    "##### c. Create a new column (Media) from the data in the Ad Group column\n",
    "\n",
    "The media/device used in the ad is listed in Ad Group. The data will be separated in a separate column."
   ]
  },
  {
   "cell_type": "code",
   "execution_count": 10,
   "metadata": {},
   "outputs": [
    {
     "data": {
      "text/html": [
       "<div>\n",
       "<style scoped>\n",
       "    .dataframe tbody tr th:only-of-type {\n",
       "        vertical-align: middle;\n",
       "    }\n",
       "\n",
       "    .dataframe tbody tr th {\n",
       "        vertical-align: top;\n",
       "    }\n",
       "\n",
       "    .dataframe thead th {\n",
       "        text-align: right;\n",
       "    }\n",
       "</style>\n",
       "<table border=\"1\" class=\"dataframe\">\n",
       "  <thead>\n",
       "    <tr style=\"text-align: right;\">\n",
       "      <th></th>\n",
       "      <th>Ad Group</th>\n",
       "      <th>Media</th>\n",
       "    </tr>\n",
       "  </thead>\n",
       "  <tbody>\n",
       "    <tr>\n",
       "      <th>0</th>\n",
       "      <td>Shop - 1:1 - Desk - [shop coupon code]</td>\n",
       "      <td>Desktop</td>\n",
       "    </tr>\n",
       "    <tr>\n",
       "      <th>1</th>\n",
       "      <td>Shop - 1:1 - Desk - [shop coupon]</td>\n",
       "      <td>Desktop</td>\n",
       "    </tr>\n",
       "    <tr>\n",
       "      <th>2</th>\n",
       "      <td>Shop - 1:1 - Desk - [shop discount code]</td>\n",
       "      <td>Desktop</td>\n",
       "    </tr>\n",
       "    <tr>\n",
       "      <th>3</th>\n",
       "      <td>Shop - 1:1 - Desk - [shop promo code]</td>\n",
       "      <td>Desktop</td>\n",
       "    </tr>\n",
       "    <tr>\n",
       "      <th>4</th>\n",
       "      <td>Shop - 1:1 - Desk - [shop promo]</td>\n",
       "      <td>Desktop</td>\n",
       "    </tr>\n",
       "  </tbody>\n",
       "</table>\n",
       "</div>"
      ],
      "text/plain": [
       "                                   Ad Group    Media\n",
       "0    Shop - 1:1 - Desk - [shop coupon code]  Desktop\n",
       "1         Shop - 1:1 - Desk - [shop coupon]  Desktop\n",
       "2  Shop - 1:1 - Desk - [shop discount code]  Desktop\n",
       "3     Shop - 1:1 - Desk - [shop promo code]  Desktop\n",
       "4          Shop - 1:1 - Desk - [shop promo]  Desktop"
      ]
     },
     "execution_count": 10,
     "metadata": {},
     "output_type": "execute_result"
    }
   ],
   "source": [
    "df['Media'] = df['Ad Group']\n",
    "\n",
    "df['Media'][df['Media'].str.contains('Desk')] = 'Desktop'\n",
    "df['Media'][df['Media'].str.contains('Mob')] = 'Mobile'\n",
    "\n",
    "df[['Ad Group','Media']].head()"
   ]
  },
  {
   "cell_type": "code",
   "execution_count": 11,
   "metadata": {},
   "outputs": [
    {
     "data": {
      "text/plain": [
       "Mobile     96\n",
       "Desktop    94\n",
       "Name: Media, dtype: Int64"
      ]
     },
     "execution_count": 11,
     "metadata": {},
     "output_type": "execute_result"
    }
   ],
   "source": [
    "df['Media'].value_counts()"
   ]
  },
  {
   "cell_type": "markdown",
   "metadata": {},
   "source": [
    "##### d. Calculating Cost per Mille (CPM)\n",
    "Cost per Mille (CPM) is a metric that shows the cost per 1000x ad views.\n",
    "CPM = Cost / Impressions * 1000"
   ]
  },
  {
   "cell_type": "code",
   "execution_count": 12,
   "metadata": {},
   "outputs": [
    {
     "data": {
      "text/html": [
       "<div>\n",
       "<style scoped>\n",
       "    .dataframe tbody tr th:only-of-type {\n",
       "        vertical-align: middle;\n",
       "    }\n",
       "\n",
       "    .dataframe tbody tr th {\n",
       "        vertical-align: top;\n",
       "    }\n",
       "\n",
       "    .dataframe thead th {\n",
       "        text-align: right;\n",
       "    }\n",
       "</style>\n",
       "<table border=\"1\" class=\"dataframe\">\n",
       "  <thead>\n",
       "    <tr style=\"text-align: right;\">\n",
       "      <th></th>\n",
       "      <th>Impressions</th>\n",
       "      <th>Cost</th>\n",
       "      <th>CPM</th>\n",
       "    </tr>\n",
       "  </thead>\n",
       "  <tbody>\n",
       "    <tr>\n",
       "      <th>0</th>\n",
       "      <td>16038</td>\n",
       "      <td>6669</td>\n",
       "      <td>415.82</td>\n",
       "    </tr>\n",
       "    <tr>\n",
       "      <th>1</th>\n",
       "      <td>36462</td>\n",
       "      <td>13746</td>\n",
       "      <td>377.00</td>\n",
       "    </tr>\n",
       "    <tr>\n",
       "      <th>2</th>\n",
       "      <td>3635</td>\n",
       "      <td>1606</td>\n",
       "      <td>441.82</td>\n",
       "    </tr>\n",
       "    <tr>\n",
       "      <th>3</th>\n",
       "      <td>26185</td>\n",
       "      <td>13278</td>\n",
       "      <td>507.08</td>\n",
       "    </tr>\n",
       "    <tr>\n",
       "      <th>4</th>\n",
       "      <td>808</td>\n",
       "      <td>391</td>\n",
       "      <td>483.91</td>\n",
       "    </tr>\n",
       "  </tbody>\n",
       "</table>\n",
       "</div>"
      ],
      "text/plain": [
       "   Impressions   Cost     CPM\n",
       "0        16038   6669  415.82\n",
       "1        36462  13746  377.00\n",
       "2         3635   1606  441.82\n",
       "3        26185  13278  507.08\n",
       "4          808    391  483.91"
      ]
     },
     "execution_count": 12,
     "metadata": {},
     "output_type": "execute_result"
    }
   ],
   "source": [
    "df['CPM'] = df['Cost'] / df['Impressions'] * 1000\n",
    "df['CPM'] = df['CPM'].round(2)\n",
    "\n",
    "df[['Impressions', 'Cost', 'CPM']].head()"
   ]
  },
  {
   "cell_type": "markdown",
   "metadata": {},
   "source": [
    "### Export the processed data to .csv formˎˊ˗ ✰"
   ]
  },
  {
   "cell_type": "code",
   "execution_count": 13,
   "metadata": {},
   "outputs": [],
   "source": [
    "df.to_csv('new_data.csv', index=False)"
   ]
  }
 ],
 "metadata": {
  "kernelspec": {
   "display_name": "Python 3",
   "language": "python",
   "name": "python3"
  },
  "language_info": {
   "codemirror_mode": {
    "name": "ipython",
    "version": 3
   },
   "file_extension": ".py",
   "mimetype": "text/x-python",
   "name": "python",
   "nbconvert_exporter": "python",
   "pygments_lexer": "ipython3",
   "version": "3.11.2"
  },
  "orig_nbformat": 4
 },
 "nbformat": 4,
 "nbformat_minor": 2
}
